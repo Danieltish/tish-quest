{
 "cells": [
  {
   "cell_type": "code",
   "execution_count": null,
   "id": "cb18f6cb-da3a-4609-a551-8c0c054641a6",
   "metadata": {},
   "outputs": [],
   "source": [
    "#Importing the Neccesary Libralies\n",
    "import pandas as pd\n",
    "import numpy as np\n",
    "import matplotlib.pyplot as plt\n",
    "import seaborn as sns\n",
    "from scipy import stats\n",
    "from sklearn.model_selection import train_test_split\n",
    "from sklearn.model_selection import train_test_split\n",
    "from sklearn.linear_model import LogisticRegression\n",
    "from sklearn.ensemble import RandomForestClassifier\n",
    "from sklearn.preprocessing import OneHotEncoder\n",
    "from sklearn.preprocessing import LabelEncoder\n",
    "from sklearn.preprocessing import StandardScaler\n",
    "from sklearn.metrics import accuracy_score, classification_report\n",
    "import joblib"
   ]
  },
  {
   "cell_type": "code",
   "execution_count": null,
   "id": "50b8a59d-3d21-4d20-9dac-99bd8567da8b",
   "metadata": {},
   "outputs": [],
   "source": [
    "#Reading the data into the notebook\n",
    "data = pd.read_csv(r'E:\\CSV\\CreditCardData.csv')\n",
    "data"
   ]
  },
  {
   "cell_type": "code",
   "execution_count": null,
   "id": "fcc7e91a-12ab-4ddb-96c1-f1c8b915a4ca",
   "metadata": {},
   "outputs": [],
   "source": [
    "data['Amount'] = data['Amount'].str.replace('£', '').str.replace('[^\\d.]', '', regex=True)\n",
    "data['Amount'] = data['Amount'].astype(float)\n",
    "data['Age'] = data['Age'].astype(int)\n",
    "data_types = data.dtypes\n",
    "print(data_types)"
   ]
  },
  {
   "cell_type": "code",
   "execution_count": null,
   "id": "7342120e-e476-4a38-acfc-d0962a981cac",
   "metadata": {},
   "outputs": [],
   "source": [
    "#Checking for Null Values\n",
    "data.isna().sum()"
   ]
  },
  {
   "cell_type": "raw",
   "id": "7380c511-be00-43bf-af15-c8fa3030a638",
   "metadata": {},
   "source": [
    "#Filling in the blank columns with the mode\n",
    "columns_to_fill = ['Amount', 'Merchant Group', 'Shipping Address', 'Gender']\n",
    "for col in columns_to_fill:\n",
    "    mode_value = data[col].mode()[0]\n",
    "    data[col].fillna(mode_value, inplace=True)\n",
    "data.isna().sum()"
   ]
  },
  {
   "cell_type": "code",
   "execution_count": null,
   "id": "240403ae-0ad0-4c4b-bca6-88e61b4facd1",
   "metadata": {},
   "outputs": [],
   "source": [
    "#Checking the Datatypes of the Columns\n",
    "data_types = data.dtypes\n",
    "print(data_types)"
   ]
  },
  {
   "cell_type": "code",
   "execution_count": null,
   "id": "d890eb13-82e8-4ac0-9bc7-6b485ae87d74",
   "metadata": {},
   "outputs": [],
   "source": [
    "data.info()"
   ]
  },
  {
   "cell_type": "code",
   "execution_count": null,
   "id": "188bd8a4-0c57-4cad-9775-25e1289ca7fd",
   "metadata": {},
   "outputs": [],
   "source": [
    "#Printing descriptive statistics\n",
    "statistics = data.describe()\n",
    "statistics = data.describe()\n",
    "print(statistics)"
   ]
  },
  {
   "cell_type": "code",
   "execution_count": null,
   "id": "c207c403-724f-4aa0-9f04-f967313c5ae2",
   "metadata": {},
   "outputs": [],
   "source": [
    "#Identifying Uniques Categories in Bank Variable\n",
    "categorical_variable = 'Bank'\n",
    "\n",
    "unique_values = data[categorical_variable].unique()\n",
    "value_counts = data[categorical_variable].value_counts()\n",
    "\n",
    "print(f\"Unique values of '{categorical_variable}':\")\n",
    "print(unique_values)\n",
    "print(\"\\nFrequencies:\")\n",
    "print(value_counts)"
   ]
  },
  {
   "cell_type": "code",
   "execution_count": null,
   "id": "48c8855d-25f2-43db-b829-043983ea1c0c",
   "metadata": {},
   "outputs": [],
   "source": [
    "# Creating Descriptives of Subsets Above 300 in Amount Variable\n",
    "threshold_amount = 300  # Modify this threshold as needed\n",
    "\n",
    "high_amount_subset = data[data['Amount'] > threshold_amount]\n",
    "\n",
    "print(\"Descriptives of Subsets Above 300 in Amount Variable:\")\n",
    "print(high_amount_subset.describe())\n",
    "\n",
    "# Creating Descriptives of Subsets Above below 50 in Amount Variable\n",
    "threshold_amount = 10  # Modify this threshold as needed\n",
    "\n",
    "high_amount_subset = data[data['Amount'] < threshold_amount]\n",
    "\n",
    "print(\"Descriptives of Subsets below 10 in Amount Variable:\")\n",
    "print(high_amount_subset.describe())"
   ]
  },
  {
   "cell_type": "code",
   "execution_count": null,
   "id": "f408bbc7-341f-417f-949b-22d67f88de92",
   "metadata": {},
   "outputs": [],
   "source": [
    "# Grouping data by Merchant Group Categorical Variable \n",
    "grouped_data = data.groupby('Merchant Group')\n",
    "\n",
    "summary_stats = grouped_data['Amount'].describe()\n",
    "\n",
    "print(\"Summarized Grouped Information by Merchant Group:\")\n",
    "print(summary_stats)"
   ]
  },
  {
   "cell_type": "code",
   "execution_count": null,
   "id": "1adfd260-e979-44f8-8fdd-df767117259b",
   "metadata": {},
   "outputs": [],
   "source": [
    "#Comparing Means in Amount of Transactions in United Kingdom and India\n",
    "from scipy.stats import ttest_ind\n",
    "\n",
    "uk_subset = data[data['Country of Transaction'] == 'United Kingdom']\n",
    "usa_subset = data[data['Country of Transaction'] == 'India']\n",
    "\n",
    "\n",
    "t_statistic, p_value = ttest_ind(uk_subset['Amount'], usa_subset['Amount'], equal_var=False)\n",
    "\n",
    "\n",
    "print(f\"Two-Sample T-test Statistic: {t_statistic}\")\n",
    "print(f\"P-value: {p_value}\")\n",
    "\n",
    "alpha = 0.05\n",
    "\n",
    "\n",
    "if p_value < alpha:\n",
    "    print(\"There is a significant difference in mean transaction amounts between UK and India.\")\n",
    "else:\n",
    "    print(\"There is no significant difference in mean transaction amounts between UK and India.\")"
   ]
  },
  {
   "cell_type": "code",
   "execution_count": null,
   "id": "5af7e83e-c2de-4212-95a2-a1e2b7883efc",
   "metadata": {},
   "outputs": [],
   "source": [
    "# Checking for Difference in Mean Amounts for Fraudulent and Genuine Transactions\n",
    "fraud_subset = data[data['Fraud'] == 1]\n",
    "no_fraud_subset = data[data['Fraud'] == 0]\n",
    "\n",
    "t_statistic, p_value = ttest_ind(fraud_subset['Amount'], no_fraud_subset['Amount'], equal_var=False)\n",
    "\n",
    "print(f\"Two-Sample T-test Statistic: {t_statistic}\")\n",
    "print(f\"P-value: {p_value}\")\n",
    "\n",
    "alpha = 0.05\n",
    "\n",
    "if p_value < alpha:\n",
    "    print(\"There is a significant difference in mean transaction amounts between 'Fraud' and 'No Fraud' transactions.\")\n",
    "else:\n",
    "    print(\"There is no significant difference in mean transaction amounts between 'Fraud' and 'No Fraud' transactions.\")"
   ]
  },
  {
   "cell_type": "code",
   "execution_count": null,
   "id": "8cf5e15a-8b8d-4bbc-9e6d-9c1bdefc1a3d",
   "metadata": {},
   "outputs": [],
   "source": [
    "# Visualize the count of fraud transactions by Entry Mode\n",
    "plt.figure(figsize=(8, 5))\n",
    "sns.countplot(data=data, x='Entry Mode', hue='Fraud')\n",
    "plt.title('Count of Fraud Transactions by Entry Mode')\n",
    "plt.xlabel('Entry Mode')\n",
    "plt.ylabel('Count')\n",
    "plt.legend(title='Fraud', labels=['No', 'Yes'])\n",
    "plt.xticks(rotation=45)\n",
    "plt.show()"
   ]
  },
  {
   "cell_type": "code",
   "execution_count": null,
   "id": "16994f9d-0f95-421c-8d12-4c8554b380b5",
   "metadata": {},
   "outputs": [],
   "source": [
    "#Distribution of Fraud Based on Amoun\n",
    "plt.figure(figsize=(10, 6))\n",
    "sns.boxplot(x='Fraud', y='Amount', data=data)\n",
    "plt.title('Transaction Amount Distribution by Fraud Status')\n",
    "plt.xlabel('Fraud')\n",
    "plt.ylabel('Amount')\n",
    "plt.xticks([0, 1], ['No Fraud', 'Fraud'])\n",
    "plt.show()"
   ]
  },
  {
   "cell_type": "code",
   "execution_count": null,
   "id": "60a8cca0-5db2-4cbc-bc6d-080a8cf1b8cb",
   "metadata": {},
   "outputs": [],
   "source": [
    "# Creating bar graphs to Compare Age Groups\n",
    "age_groups = [(20, 29), (30, 39), (40, 49), (50, 59), (60, 69), (70, 79)]\n",
    "age_labels = ['20s', '30s', '40s', '50s', '60s', '70s']\n",
    "fraud_probabilities = []\n",
    "not_fraud_probabilities = []\n",
    "\n",
    "for age_group in age_groups:\n",
    "    lower_age, upper_age = age_group\n",
    "    subset = data[(data['Age'] >= lower_age) & (data['Age'] <= upper_age)]\n",
    "    total_transactions = len(subset)\n",
    "    fraud_transactions = len(subset[subset['Fraud'] == 1])\n",
    "    not_fraud_transactions = len(subset[subset['Fraud'] == 0])\n",
    "    fraud_probability = fraud_transactions / total_transactions\n",
    "    not_fraud_probability = not_fraud_transactions / total_transactions\n",
    "    fraud_probabilities.append(fraud_probability)\n",
    "    not_fraud_probabilities.append(not_fraud_probability)\n",
    "\n",
    "x = np.arange(len(age_labels))\n",
    "width = 0.35\n",
    "\n",
    "fig, ax = plt.subplots(figsize=(10, 6))\n",
    "ax.bar(x, fraud_probabilities, width, label='Fraud', alpha=0.7)\n",
    "ax.bar(x, not_fraud_probabilities, width, label='Not Fraud', bottom=fraud_probabilities, alpha=0.7)\n",
    "\n",
    "ax.set_xlabel('Age Group')\n",
    "ax.set_ylabel('Probability')\n",
    "ax.set_title('Fraud and Not Fraud Probability by Age Group')\n",
    "ax.set_xticks(x)\n",
    "ax.set_xticklabels(age_labels)\n",
    "ax.legend()\n",
    "\n",
    "plt.tight_layout()\n",
    "plt.show()"
   ]
  },
  {
   "cell_type": "code",
   "execution_count": null,
   "id": "d920a8c7-33b7-4371-9527-60bf063c69ea",
   "metadata": {},
   "outputs": [],
   "source": [
    "# Probabilities of fraud by time\n",
    "fraud_probabilities = data.groupby('Time')['Fraud'].mean().reset_index()\n",
    "\n",
    "plt.figure(figsize=(12, 6))\n",
    "ax = sns.barplot(data=fraud_probabilities, x='Time', y='Fraud', palette='Blues')\n",
    "ax.set_title('Probability of Fraud by Time')\n",
    "ax.set_xlabel('Time')\n",
    "ax.set_ylabel('Probability of Fraud')\n",
    "ax.set_xticklabels(fraud_probabilities['Time'], rotation=45, ha='right')\n",
    "ax.grid(axis='y', linestyle='--', alpha=0.7)\n",
    "plt.tight_layout()\n",
    "plt.show()"
   ]
  },
  {
   "cell_type": "code",
   "execution_count": null,
   "id": "2113240d-50f5-443e-bd95-9f750dec2885",
   "metadata": {},
   "outputs": [],
   "source": [
    "# Create a crosstab to get the counts\n",
    "ct = pd.crosstab(data['Merchant Group'], data['Fraud'])\n",
    "\n",
    "# Plot a stacked bar chart\n",
    "plt.figure(figsize=(12, 6))\n",
    "ct.plot(kind='bar', stacked=True, colormap='Set3')\n",
    "plt.title('Transaction Frequency by Merchant Group')\n",
    "plt.xlabel('Merchant Group')\n",
    "plt.ylabel('Count')\n",
    "plt.xticks(rotation=90)\n",
    "plt.legend(title='Fraud', labels=['Not Fraud', 'Fraud'])\n",
    "plt.tight_layout()\n",
    "plt.show()"
   ]
  },
  {
   "cell_type": "code",
   "execution_count": null,
   "id": "7e82fe11-21c0-4a7f-92c0-3a6e52b92964",
   "metadata": {},
   "outputs": [],
   "source": [
    "# Calculate the fraud rates for Country of Residence Transaction and Shipping adress \n",
    "fraud_by_transaction_country = data.groupby('Country of Transaction')['Fraud'].mean().reset_index()\n",
    "fraud_by_shipping_address = data.groupby('Shipping Address')['Fraud'].mean().reset_index()\n",
    "fraud_by_residence_country = data.groupby('Country of Residence')['Fraud'].mean().reset_index()\n",
    "\n",
    "fig, axes = plt.subplots(nrows=3, ncols=1, figsize=(10, 12))\n",
    "fig.subplots_adjust(hspace=0.5)\n",
    "\n",
    "sns.barplot(data=fraud_by_transaction_country, x='Country of Transaction', y='Fraud', ax=axes[0])\n",
    "axes[0].set_title('Fraud Rate by Country of Transaction')\n",
    "axes[0].set_xlabel('Country of Transaction')\n",
    "axes[0].set_ylabel('Fraud Rate')\n",
    "\n",
    "sns.barplot(data=fraud_by_shipping_address, x='Shipping Address', y='Fraud', ax=axes[1])\n",
    "axes[1].set_title('Fraud Rate by Shipping Address')\n",
    "axes[1].set_xlabel('Shipping Address')\n",
    "axes[1].set_ylabel('Fraud Rate')\n",
    "axes[1].tick_params(axis='x', rotation=45)\n",
    "\n",
    "sns.barplot(data=fraud_by_residence_country, x='Country of Residence', y='Fraud', ax=axes[2])\n",
    "axes[2].set_title('Fraud Rate by Country of Residence')\n",
    "axes[2].set_xlabel('Country of Residence')\n",
    "axes[2].set_ylabel('Fraud Rate')\n",
    "axes[2].tick_params(axis='x', rotation=45)\n",
    "\n",
    "plt.tight_layout()\n",
    "plt.show()"
   ]
  },
  {
   "cell_type": "code",
   "execution_count": null,
   "id": "23194e02-645d-405f-9984-c56b321b5f40",
   "metadata": {},
   "outputs": [],
   "source": [
    "# Calculate the fraud rates for Country of Residence Transaction and Shipping address\n",
    "fraud_by_transaction_country = data.groupby('Country of Transaction')['Fraud'].mean().reset_index()\n",
    "fraud_by_shipping_address = data.groupby('Shipping Address')['Fraud'].mean().reset_index()\n",
    "fraud_by_residence_country = data.groupby('Country of Residence')['Fraud'].mean().reset_index()\n",
    "\n",
    "fig, axes = plt.subplots(nrows=3, ncols=1, figsize=(8, 10))\n",
    "fig.subplots_adjust(hspace=0.5)\n",
    "\n",
    "sns.barplot(data=fraud_by_transaction_country, x='Country of Transaction', y='Fraud', ax=axes[0])\n",
    "axes[0].set_title('Fraud Rate by Country of Transaction')\n",
    "axes[0].set_xlabel('Country of Transaction')\n",
    "axes[0].set_ylabel('Fraud Rate')\n",
    "\n",
    "sns.barplot(data=fraud_by_shipping_address, x='Shipping Address', y='Fraud', ax=axes[1])\n",
    "axes[1].set_title('Fraud Rate by Shipping Address')\n",
    "axes[1].set_xlabel('Shipping Address')\n",
    "axes[1].set_ylabel('Fraud Rate')\n",
    "axes[1].tick_params(axis='x', rotation=45)\n",
    "\n",
    "sns.barplot(data=fraud_by_residence_country, x='Country of Residence', y='Fraud', ax=axes[2])\n",
    "axes[2].set_title('Fraud Rate by Country of Residence')\n",
    "axes[2].set_xlabel('Country of Residence')\n",
    "axes[2].set_ylabel('Fraud Rate')\n",
    "axes[2].tick_params(axis='x', rotation=45)\n",
    "\n",
    "fig.suptitle('Fraud Rates by Location', fontsize=16)\n",
    "\n",
    "plt.tight_layout()\n",
    "plt.show()"
   ]
  },
  {
   "cell_type": "code",
   "execution_count": null,
   "id": "4b22e20a-f12e-4926-a7c0-0d1e45214749",
   "metadata": {},
   "outputs": [],
   "source": [
    "#Identifying fraud rate by gender\n",
    "gender_fraud_counts = data.groupby(['Gender', 'Fraud']).size().unstack(fill_value=0)\n",
    "fraud_rate = (gender_fraud_counts[1] / (gender_fraud_counts[0] + gender_fraud_counts[1])) * 100\n",
    "plt.figure(figsize=(8, 6))\n",
    "sns.set(style=\"whitegrid\")\n",
    "sns.barplot(x=fraud_rate.index, y=fraud_rate, palette=\"Set2\")\n",
    "plt.xlabel(\"Gender\")\n",
    "plt.ylabel(\"Fraud Rate (%)\")\n",
    "plt.title(\"Fraud Rate Comparison by Gender\")\n",
    "plt.xticks(range(len(fraud_rate.index)), ['Female', 'Male'])\n",
    "plt.show()"
   ]
  },
  {
   "cell_type": "code",
   "execution_count": null,
   "id": "69f70e05-d396-4991-904a-ca4e02eb382a",
   "metadata": {},
   "outputs": [],
   "source": [
    "#Identifying fraudrate by bank\n",
    "bank_fraud_counts = data.groupby(['Bank', 'Fraud']).size().unstack(fill_value=0)\n",
    "fraud_rate = (bank_fraud_counts[1] / (bank_fraud_counts[0] + bank_fraud_counts[1])) * 100\n",
    "fraud_rate_sorted = fraud_rate.sort_values(ascending=False)\n",
    "plt.figure(figsize=(12, 8))\n",
    "sns.set(style=\"whitegrid\")\n",
    "sns.barplot(x=fraud_rate_sorted.values, y=fraud_rate_sorted.index, palette=\"Set2\")\n",
    "plt.xlabel(\"Fraud Rate (%)\")\n",
    "plt.ylabel(\"Bank\")\n",
    "plt.title(\"Fraud Rate Comparison by Bank\")\n",
    "plt.show()"
   ]
  },
  {
   "cell_type": "code",
   "execution_count": null,
   "id": "6e69c8bf-0e82-4f4e-be35-4f25eddebf35",
   "metadata": {},
   "outputs": [],
   "source": [
    "#Encoding Categorical Variables\n",
    "categorical_columns = ['Type of Card', 'Entry Mode', 'Type of Transaction', 'Merchant Group', 'Country of Transaction', 'Shipping Address', 'Country of Residence', 'Gender', 'Bank']\n",
    "data_encoded = pd.get_dummies(data, columns=categorical_columns, drop_first=True)\n",
    "data_encoded"
   ]
  },
  {
   "cell_type": "code",
   "execution_count": null,
   "id": "9b50486c-4984-4cc9-b2bf-7291ad480215",
   "metadata": {},
   "outputs": [],
   "source": [
    "# Training the Logistic Regression Model\n",
    "\n",
    "data_encoded.drop(['Transaction ID', 'Date', 'Day of Week'], axis=1, inplace=True)\n",
    "\n",
    "X = data_encoded.drop('Fraud', axis=1)\n",
    "y = data_encoded['Fraud']\n",
    "\n",
    "\n",
    "\n",
    "X_train, X_test, y_train, y_test = train_test_split(X, y, test_size=0.2, random_state=42)\n",
    "\n",
    "scaler = StandardScaler()\n",
    "X_train_scaled = scaler.fit_transform(X_train)\n",
    "X_test_scaled = scaler.transform(X_test)\n",
    "\n",
    "model = LogisticRegression(max_iter=1000)\n",
    "model.fit(X_train, y_train)\n",
    "\n",
    "y_pred = model.predict(X_test)\n",
    "\n",
    "y_pred = model.predict(X_test)\n",
    "\n",
    "accuracy = accuracy_score(y_test, y_pred)\n",
    "print(f\"Accuracy: {accuracy * 100:.2f}%\")\n",
    "\n",
    "print(classification_report(y_test, y_pred))"
   ]
  },
  {
   "cell_type": "code",
   "execution_count": null,
   "id": "d3407d77-880b-4d7d-a60e-eded43895bd4",
   "metadata": {},
   "outputs": [],
   "source": [
    "#Training the random forest classifier\n",
    "X = data_encoded.drop('Fraud', axis=1)\n",
    "y = data_encoded['Fraud']\n",
    "\n",
    "X_train, X_test, y_train, y_test = train_test_split(X, y, test_size=0.2, random_state=42)\n",
    "\n",
    "# Create a Random Forest Classifier model\n",
    "rf_classifier = RandomForestClassifier(n_estimators=100, random_state=42)\n",
    "\n",
    "# Train the model on the training data\n",
    "rf_classifier.fit(X_train, y_train)\n",
    "\n",
    "# Make predictions on the test data\n",
    "y_pred = rf_classifier.predict(X_test)\n",
    "\n",
    "# Evaluate the model's accuracy\n",
    "accuracy = accuracy_score(y_test, y_pred)\n",
    "print(f\"Accuracy: {accuracy * 100:.2f}%\")\n",
    "\n",
    "# You can also print a classification report for more detailed evaluation\n",
    "print(classification_report(y_test, y_pred))"
   ]
  }
 ],
 "metadata": {
  "kernelspec": {
   "display_name": "Python 3 (ipykernel)",
   "language": "python",
   "name": "python3"
  },
  "language_info": {
   "codemirror_mode": {
    "name": "ipython",
    "version": 3
   },
   "file_extension": ".py",
   "mimetype": "text/x-python",
   "name": "python",
   "nbconvert_exporter": "python",
   "pygments_lexer": "ipython3",
   "version": "3.9.12"
  }
 },
 "nbformat": 4,
 "nbformat_minor": 5
}
